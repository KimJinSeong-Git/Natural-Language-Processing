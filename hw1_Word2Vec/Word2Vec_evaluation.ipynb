{
 "cells": [
  {
   "cell_type": "markdown",
   "metadata": {},
   "source": [
    "### Import Modules"
   ]
  },
  {
   "cell_type": "code",
   "execution_count": 1,
   "metadata": {},
   "outputs": [],
   "source": [
    "import torch\n",
    "import torch.nn as nn\n",
    "\n",
    "import matplotlib.pyplot as plt\n",
    "from sklearn.manifold import TSNE\n",
    "from sklearn.decomposition import PCA\n",
    "from sklearn.metrics.pairwise import cosine_similarity\n",
    "from sklearn.preprocessing import normalize\n",
    "\n",
    "import json\n",
    "import numpy as np"
   ]
  },
  {
   "cell_type": "markdown",
   "metadata": {},
   "source": [
    "### Load Model & Vocab"
   ]
  },
  {
   "cell_type": "code",
   "execution_count": 2,
   "metadata": {},
   "outputs": [
    {
     "name": "stdout",
     "output_type": "stream",
     "text": [
      "Vocab Length: 37690\n",
      "Word2VecNS(\n",
      "  (in_embeddings): Embedding(37690, 128)\n",
      "  (out_embeddings): Embedding(37690, 128)\n",
      "  (sigmoid): Sigmoid()\n",
      ")\n"
     ]
    }
   ],
   "source": [
    "def loadVocab(save_root):\n",
    "    with open(f'{save_root}/vocab.json', 'r') as json_file:\n",
    "        vocab = json.load(json_file)\n",
    "\n",
    "    return vocab\n",
    "\n",
    "class Word2VecNS(nn.Module):\n",
    "    def __init__(self, vocab_size, embedding_dim):\n",
    "        super(Word2VecNS, self).__init__()\n",
    "        self.in_embeddings = nn.Embedding(vocab_size, embedding_dim)\n",
    "        self.out_embeddings = nn.Embedding(vocab_size, embedding_dim)\n",
    "\n",
    "        self.sigmoid = nn.Sigmoid()\n",
    "                \n",
    "    def forward(self, center_word_idx, target_word_idx):\n",
    "        center_embed = self.in_embeddings(center_word_idx)\n",
    "        target_embed = self.out_embeddings(target_word_idx)\n",
    "        \n",
    "        logits = torch.mul(center_embed, target_embed).sum(dim=1)\n",
    "        output = self.sigmoid(logits)\n",
    "\n",
    "        return output\n",
    "    \n",
    "    def get_embedding(self, word_idx):\n",
    "        return self.in_embeddings(word_idx)\n",
    "\n",
    "vocab = loadVocab('./dataset')\n",
    "vocab_size = len(vocab)\n",
    "print(f'Vocab Length: {len(vocab)}')\n",
    "\n",
    "embed_size = 128\n",
    "word2vec = Word2VecNS(vocab_size, embed_size)\n",
    "word2vec.load_state_dict(torch.load('./dataset/(20240929)word2vec_NS(128h_4epoch).pt'))\n",
    "word2vec.eval()\n",
    "print(word2vec)"
   ]
  },
  {
   "cell_type": "code",
   "execution_count": 3,
   "metadata": {},
   "outputs": [],
   "source": [
    "def extract_embeddings(model, vocab_size):\n",
    "    word_indices = torch.arange(vocab_size)\n",
    "    embeddings = []\n",
    "    for word_idx in word_indices:\n",
    "        embeddings.append(model.get_embedding(word_idx).detach().numpy())\n",
    "\n",
    "    return np.array(embeddings)\n",
    "\n",
    "embeddings = extract_embeddings(word2vec, vocab_size)\n",
    "word_labels = [word for word in vocab]"
   ]
  },
  {
   "cell_type": "code",
   "execution_count": 12,
   "metadata": {},
   "outputs": [],
   "source": [
    "def find_top_k_similar(embeddings, vocab, k=5):\n",
    "    # 코사인 유사도 계산 (전체 임베딩 벡터 간의 유사도 계산)\n",
    "    similarities = cosine_similarity(embeddings)\n",
    "    \n",
    "    # 결과 저장\n",
    "    top_k_similar_words = {}\n",
    "    \n",
    "    # 각 단어에 대해 상위 k개의 유사한 단어 찾기\n",
    "    for i, word in enumerate(vocab):\n",
    "        # 유사도 순으로 정렬 (자기 자신은 제외)\n",
    "        sorted_indices = np.argsort(-similarities[i])\n",
    "        \n",
    "        # 상위 k개 단어 찾기 (자기 자신은 제외하고 상위 k개)\n",
    "        top_k_indices = sorted_indices[1:k+1]  # 첫 번째는 자기 자신이므로 제외\n",
    "        top_k_words = [vocab[idx] for idx in top_k_indices]\n",
    "        \n",
    "        # 결과 저장\n",
    "        top_k_similar_words[word] = top_k_words\n",
    "    \n",
    "    return top_k_similar_words\n",
    "\n",
    "top_k_similar = find_top_k_similar(embeddings, word_labels, k=5)"
   ]
  },
  {
   "cell_type": "code",
   "execution_count": 40,
   "metadata": {},
   "outputs": [
    {
     "name": "stdout",
     "output_type": "stream",
     "text": [
      "drink  's top k similar: ['bottl', 'alcohol', 'coffe', 'wine', 'drank']\n",
      "food   's top k similar: ['meal', 'suppli', 'eat', 'meat', 'drink']\n",
      "boy    's top k similar: ['girl', 'youngster', 'ager', 'someon', 'babi']\n",
      "girl   's top k similar: ['boy', 'ager', 'pregnant', 'child', 'babi']\n",
      "tool   's top k similar: ['techniqu', 'invent', 'fit', 'method', 'len']\n"
     ]
    }
   ],
   "source": [
    "test_words = [\n",
    "    'drink',\n",
    "    'food',\n",
    "    'boy',\n",
    "    'girl',\n",
    "    'tool',\n",
    "]\n",
    "\n",
    "for test_word in test_words:\n",
    "    print(f'{test_word:7}\\'s top k similar: {top_k_similar[test_word]}')"
   ]
  }
 ],
 "metadata": {
  "kernelspec": {
   "display_name": "spam_bert",
   "language": "python",
   "name": "python3"
  },
  "language_info": {
   "codemirror_mode": {
    "name": "ipython",
    "version": 3
   },
   "file_extension": ".py",
   "mimetype": "text/x-python",
   "name": "python",
   "nbconvert_exporter": "python",
   "pygments_lexer": "ipython3",
   "version": "3.9.19"
  }
 },
 "nbformat": 4,
 "nbformat_minor": 2
}
