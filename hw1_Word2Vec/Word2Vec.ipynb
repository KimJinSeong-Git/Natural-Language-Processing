{
 "cells": [
  {
   "cell_type": "markdown",
   "metadata": {},
   "source": [
    "### Import Modules"
   ]
  },
  {
   "cell_type": "code",
   "execution_count": 17,
   "metadata": {},
   "outputs": [
    {
     "name": "stderr",
     "output_type": "stream",
     "text": [
      "[nltk_data] Downloading package wordnet to /Users/kimjin-\n",
      "[nltk_data]     seong/nltk_data...\n",
      "[nltk_data]   Package wordnet is already up-to-date!\n",
      "[nltk_data] Downloading package stopwords to /Users/kimjin-\n",
      "[nltk_data]     seong/nltk_data...\n",
      "[nltk_data]   Package stopwords is already up-to-date!\n"
     ]
    }
   ],
   "source": [
    "import torch\n",
    "\n",
    "import nltk\n",
    "from nltk.tokenize import TreebankWordTokenizer, RegexpTokenizer\n",
    "from nltk.corpus import stopwords\n",
    "from nltk.stem import WordNetLemmatizer\n",
    "from nltk.stem import PorterStemmer\n",
    "\n",
    "from sklearn.feature_extraction.text import TfidfVectorizer\n",
    "\n",
    "import numpy as np\n",
    "import pickle\n",
    "import os, re, json, random\n",
    "from collections import defaultdict\n",
    "\n",
    "# download nltk resources\n",
    "nltk.download('wordnet')\n",
    "nltk.download('stopwords')\n",
    "\n",
    "# set device (MAC)\n",
    "device = torch.device(\"mps\") if torch.backends.mps.is_available() else torch.device('cpu')"
   ]
  },
  {
   "cell_type": "markdown",
   "metadata": {},
   "source": [
    "### Load Dataset"
   ]
  },
  {
   "cell_type": "code",
   "execution_count": 2,
   "metadata": {},
   "outputs": [],
   "source": [
    "# read file list\n",
    "train_dataset_path = './dataset/AP_corpus_one_line_per_sentence'\n",
    "tarin_dataset_list = os.listdir(train_dataset_path)\n",
    "\n",
    "# init\n",
    "text = []\n",
    "\n",
    "# read files\n",
    "for file in tarin_dataset_list:\n",
    "    file_path = f'{train_dataset_path}/{file}'\n",
    "    with open(file_path, 'r') as f:\n",
    "        text.append(f.read())"
   ]
  },
  {
   "cell_type": "markdown",
   "metadata": {},
   "source": [
    "### Text Cleaning"
   ]
  },
  {
   "cell_type": "code",
   "execution_count": 3,
   "metadata": {},
   "outputs": [],
   "source": [
    "def textCleaning(sentence, is_stem=False):\n",
    "    # get lowercase\n",
    "    sentence = sentence.lower()\n",
    "\n",
    "    # tokenization\n",
    "    #tokenizer = TreebankWordTokenizer()\n",
    "    tokenizer = RegexpTokenizer(r'\\w+')\n",
    "    sentence = tokenizer.tokenize(sentence)\n",
    "\n",
    "    # lemmatization\n",
    "    lemmatizer = WordNetLemmatizer()\n",
    "    sentence = [lemmatizer.lemmatize(token) for token in sentence]\n",
    "\n",
    "    # stemming\n",
    "    if is_stem:\n",
    "        stemmer = PorterStemmer()\n",
    "        sentence = [stemmer.stem(token) for token in sentence]\n",
    "\n",
    "    patterns = r\"(@\\[A-Za-z0-9]+)|([^0-9A-Za-z \\t])|(\\w+:\\/\\/\\S+)|^rt|http.+?\"\n",
    "    stop_words = set(stopwords.words('english'))\n",
    "\n",
    "    # removing unicode characters(punctuations)\n",
    "    sentence = [re.sub(patterns, '', token) for token in sentence if re.sub(patterns, '', token)]\n",
    "\n",
    "    # removing numbers\n",
    "    sentence = [re.sub(r'\\d+', '', token) for token in sentence if re.sub(r'\\d+', '', token)]\n",
    "\n",
    "    # removing stopwords\n",
    "    stop_words = set(stopwords.words('english'))\n",
    "    sentence = [token for token in sentence if token not in stop_words]\n",
    "\n",
    "    # removing words less than minimum word length\n",
    "    processed_sentence = [token for token in sentence if len(token)>2]\n",
    "\n",
    "    # processed_tokens = [token for token in sentence if re.sub(patterns, '', token) and not re.sub(r'\\d+', '', token) and token not in stop_words and len(token) > 2]    \n",
    "\n",
    "    return processed_sentence\n",
    "\n",
    "def getPadded(tokens, max_len):\n",
    "    seq_len = len(tokens)\n",
    "    if seq_len < max_len:\n",
    "        tokens = tokens + ['[PAD]']*(max_len-seq_len)\n",
    "    return tokens\n",
    "\n",
    "def preprocessing(text, save_root=None, is_save=False):\n",
    "    text_clean = []\n",
    "    dataset_len = len(text)\n",
    "\n",
    "    for idx, sentence in enumerate(text):\n",
    "        text_clean.append(textCleaning(sentence, is_stem=True))\n",
    "\n",
    "        if idx%100==0:\n",
    "            print(f'{idx+1:5d}/{dataset_len:5d} complete')\n",
    "\n",
    "    # get max length\n",
    "    max_len = 0\n",
    "    for tokens in text_clean:\n",
    "        token_length = len(tokens)\n",
    "\n",
    "        if token_length > max_len:\n",
    "            max_len = token_length\n",
    "\n",
    "    # padding\n",
    "    # padded_tokens = []\n",
    "\n",
    "    # for idx, tokens in enumerate(text_clean):\n",
    "    #     padded_tokens.append(getPadded(tokens, max_len))\n",
    "\n",
    "    #     if idx%100==0:\n",
    "    #         print(f'{idx+1:5d}/{dataset_len:5d} complete')\n",
    "\n",
    "\n",
    "    # save files\n",
    "    if is_save:\n",
    "        with open(f'{save_root}/text_list_cleaning.pkl', 'wb') as file:\n",
    "            pickle.dump(text_clean, file)\n",
    "\n",
    "        # with open(f'{save_root}/text_list_cleaning_padded.pkl', 'wb') as file:\n",
    "        #     pickle.dump(padded_tokens, file)\n",
    "\n",
    "    return text_clean\n",
    "\n",
    "def loadData(save_root):\n",
    "    with open(f'{save_root}/text_list_cleaning.pkl', 'rb') as file:\n",
    "        text_clean = pickle.load(file)\n",
    "\n",
    "    # with open(f'{save_root}/text_list_cleaning_padded.pkl', 'rb') as file:\n",
    "    #     padded_tokens = pickle.load(file)\n",
    "\n",
    "    return text_clean"
   ]
  },
  {
   "cell_type": "code",
   "execution_count": 4,
   "metadata": {},
   "outputs": [],
   "source": [
    "save_root = './dataset'\n",
    "\n",
    "#text_clean = preprocessing(text, save_root, True)\n",
    "text_clean = loadData(save_root)"
   ]
  },
  {
   "cell_type": "markdown",
   "metadata": {},
   "source": [
    "### Create Vocab"
   ]
  },
  {
   "cell_type": "code",
   "execution_count": 5,
   "metadata": {},
   "outputs": [],
   "source": [
    "def createVocab(word_tokens, save_root=None, is_save=False):\n",
    "    # 빈도 계산을 위한 딕셔너리 초기화\n",
    "    word_freq = defaultdict(int)\n",
    "\n",
    "    # 문장을 문자열로 변환 (TfidfVectorizer는 문자열 입력을 받음)\n",
    "    text_clean_str = [' '.join(sequence) for sequence in word_tokens]\n",
    "\n",
    "    # TF-IDF Vectorizer 초기화\n",
    "    vectorizer = TfidfVectorizer()\n",
    "\n",
    "    # TF-IDF 값 계산\n",
    "    tfidf_matrix = vectorizer.fit_transform(text_clean_str)\n",
    "\n",
    "    # 각 단어의 TF-IDF 평균값 계산\n",
    "    tfidf_scores = np.mean(tfidf_matrix.toarray(), axis=0)\n",
    "\n",
    "    # 단어와 그에 해당하는 TF-IDF 점수 매핑\n",
    "    vocab_tfidf = {word: score for word, score in zip(vectorizer.get_feature_names_out(), tfidf_scores)}\n",
    "\n",
    "    # TF-IDF 기준 설정\n",
    "    min_tfidf = np.float64(0.00005)\n",
    "    filtered_vocab = [word for word, score in vocab_tfidf.items() if score >= min_tfidf]\n",
    "\n",
    "    # 'PAD'와 'UNK'를 0번과 1번 인덱스에 추가\n",
    "    final_vocab_list = ['[PAD]', '[UNK]'] + sorted(filtered_vocab)\n",
    "    final_vocab_dict = {word: idx for idx, word in enumerate(final_vocab_list)}\n",
    "\n",
    "    if is_save:\n",
    "        with open(f'{save_root}/vocab.json', 'w') as json_file:\n",
    "            json.dump(final_vocab_dict, json_file)\n",
    "\n",
    "    return final_vocab_dict\n",
    "\n",
    "def loadVocab(save_root):\n",
    "    with open(f'{save_root}/vocab.json', 'r') as json_file:\n",
    "        vocab = json.load(json_file)\n",
    "\n",
    "    return vocab"
   ]
  },
  {
   "cell_type": "code",
   "execution_count": 6,
   "metadata": {},
   "outputs": [
    {
     "name": "stdout",
     "output_type": "stream",
     "text": [
      "Vocab Length: 37690\n"
     ]
    }
   ],
   "source": [
    "#vocab = createVocab(text_clean, './dataset', True)\n",
    "vocab = loadVocab('./dataset')\n",
    "print(f'Vocab Length: {len(vocab)}')"
   ]
  },
  {
   "cell_type": "markdown",
   "metadata": {},
   "source": [
    "### Integer Encoding"
   ]
  },
  {
   "cell_type": "code",
   "execution_count": 7,
   "metadata": {},
   "outputs": [],
   "source": [
    "def encodeTokens(corpus_tokens, word_to_index, save_root=None, is_save=False):\n",
    "    final_corpus = []\n",
    "    nb_data = len(corpus_tokens)\n",
    "\n",
    "    for idx, tokens in enumerate(corpus_tokens):\n",
    "        final_corpus.append([word_to_index.get(token, word_to_index['[UNK]']) for token in tokens])\n",
    "        print(f'[{idx+1:3d} / {nb_data:3d}] complete', end='\\r')\n",
    "\n",
    "    if is_save:\n",
    "        with open(f'{save_root}/text_list_cleaning_encoded.pkl', 'wb') as file:\n",
    "            pickle.dump(final_corpus, file)\n",
    "\n",
    "    return final_corpus\n",
    "\n",
    "def loadEncodedTokens(save_root):\n",
    "    with open(f'{save_root}/text_list_cleaning_encoded.pkl', 'rb') as file:\n",
    "        tokens = pickle.load(file)\n",
    "\n",
    "    return tokens\n",
    "\n",
    "#encoded_tokens = encodeTokens(text_clean, vocab, './dataset', True)\n",
    "encoded_tokens = loadEncodedTokens('./dataset')"
   ]
  },
  {
   "cell_type": "markdown",
   "metadata": {},
   "source": [
    "### Negative Sampling"
   ]
  },
  {
   "cell_type": "code",
   "execution_count": 27,
   "metadata": {},
   "outputs": [
    {
     "name": "stdout",
     "output_type": "stream",
     "text": [
      "[0.10%] 49609 / 49609\n",
      "[100.10%]  8806 / 75463\r"
     ]
    },
    {
     "ename": "KeyboardInterrupt",
     "evalue": "",
     "output_type": "error",
     "traceback": [
      "\u001b[0;31m---------------------------------------------------------------------------\u001b[0m",
      "\u001b[0;31mKeyboardInterrupt\u001b[0m                         Traceback (most recent call last)",
      "Cell \u001b[0;32mIn[27], line 37\u001b[0m\n\u001b[1;32m     34\u001b[0m negative_samples \u001b[38;5;241m=\u001b[39m \u001b[38;5;241m1\u001b[39m  \u001b[38;5;66;03m# 부정 샘플 개수\u001b[39;00m\n\u001b[1;32m     36\u001b[0m \u001b[38;5;66;03m# 윈도우 사이즈와 네거티브 샘플링을 적용한 학습 데이터 생성\u001b[39;00m\n\u001b[0;32m---> 37\u001b[0m training_data \u001b[38;5;241m=\u001b[39m \u001b[43mcreate_training_pairs\u001b[49m\u001b[43m(\u001b[49m\u001b[43mencoded_tokens\u001b[49m\u001b[43m,\u001b[49m\u001b[43m \u001b[49m\u001b[43mvocab_size\u001b[49m\u001b[43m,\u001b[49m\u001b[43m \u001b[49m\u001b[43mwindow_size\u001b[49m\u001b[43m,\u001b[49m\u001b[43m \u001b[49m\u001b[43mnegative_samples\u001b[49m\u001b[43m)\u001b[49m\n\u001b[1;32m     39\u001b[0m \u001b[38;5;66;03m# 생성된 학습 데이터 출력\u001b[39;00m\n\u001b[1;32m     40\u001b[0m \u001b[38;5;28;01mfor\u001b[39;00m data \u001b[38;5;129;01min\u001b[39;00m training_data[:\u001b[38;5;241m10\u001b[39m]:  \u001b[38;5;66;03m# 일부 데이터만 출력\u001b[39;00m\n",
      "Cell \u001b[0;32mIn[27], line 27\u001b[0m, in \u001b[0;36mcreate_training_pairs\u001b[0;34m(encoded_sentences, vocab_size, window_size, negative_samples)\u001b[0m\n\u001b[1;32m     25\u001b[0m                     \u001b[38;5;28;01mwhile\u001b[39;00m negative_word \u001b[38;5;129;01min\u001b[39;00m sentence:\n\u001b[1;32m     26\u001b[0m                         negative_word \u001b[38;5;241m=\u001b[39m random\u001b[38;5;241m.\u001b[39mrandint(\u001b[38;5;241m1\u001b[39m, vocab_size \u001b[38;5;241m-\u001b[39m \u001b[38;5;241m1\u001b[39m)\n\u001b[0;32m---> 27\u001b[0m                     \u001b[43mtraining_data\u001b[49m\u001b[38;5;241;43m.\u001b[39;49m\u001b[43mappend\u001b[49m(((center_word, negative_word), \u001b[38;5;241m0\u001b[39m))\n\u001b[1;32m     28\u001b[0m     \u001b[38;5;28mprint\u001b[39m()\n\u001b[1;32m     30\u001b[0m \u001b[38;5;28;01mreturn\u001b[39;00m training_data\n",
      "\u001b[0;31mKeyboardInterrupt\u001b[0m: "
     ]
    }
   ],
   "source": [
    "def create_training_pairs(encoded_sentences, vocab_size, window_size=2, negative_samples=1):\n",
    "    training_data = []\n",
    "\n",
    "    cnt = 1\n",
    "    for sentence in encoded_sentences:\n",
    "        sentence_length = len(sentence)\n",
    "        \n",
    "        for idx, center_word in enumerate(sentence):\n",
    "            print(f'[{cnt}] {idx+1:5d} / {sentence_length}', end='\\r')\n",
    "\n",
    "            start = max(0, idx - window_size)\n",
    "            end = min(sentence_length, idx + window_size + 1)\n",
    "\n",
    "            # 긍정 샘플 생성\n",
    "            for neighbor_idx in range(start, end):\n",
    "                if neighbor_idx != idx:\n",
    "                    target_word = sentence[neighbor_idx]\n",
    "                    training_data.append(((center_word, target_word), 1))\n",
    "                    \n",
    "                    # 부정 샘플 생성\n",
    "                    for _ in range(negative_samples):\n",
    "                        negative_word = random.randint(1, vocab_size - 1)\n",
    "                        while negative_word in sentence:\n",
    "                            negative_word = random.randint(1, vocab_size - 1)\n",
    "                        training_data.append(((center_word, negative_word), 0))\n",
    "        print()\n",
    "    \n",
    "    return training_data\n",
    "\n",
    "vocab_size = len(vocab)\n",
    "window_size = 2  # 윈도우 크기\n",
    "negative_samples = 1  # 부정 샘플 개수\n",
    "\n",
    "# 윈도우 사이즈와 네거티브 샘플링을 적용한 학습 데이터 생성\n",
    "training_data = create_training_pairs(encoded_tokens, vocab_size, window_size, negative_samples)\n",
    "\n",
    "# 생성된 학습 데이터 출력\n",
    "for data in training_data[:10]:  # 일부 데이터만 출력\n",
    "    print(data)\n",
    "\n",
    "len(training_data)"
   ]
  }
 ],
 "metadata": {
  "kernelspec": {
   "display_name": "nlp_lec",
   "language": "python",
   "name": "python3"
  },
  "language_info": {
   "codemirror_mode": {
    "name": "ipython",
    "version": 3
   },
   "file_extension": ".py",
   "mimetype": "text/x-python",
   "name": "python",
   "nbconvert_exporter": "python",
   "pygments_lexer": "ipython3",
   "version": "3.9.19"
  }
 },
 "nbformat": 4,
 "nbformat_minor": 2
}
