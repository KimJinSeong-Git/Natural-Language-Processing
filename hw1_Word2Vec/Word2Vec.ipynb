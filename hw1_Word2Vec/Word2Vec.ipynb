{
 "cells": [
  {
   "cell_type": "markdown",
   "metadata": {},
   "source": [
    "### Import Modules"
   ]
  },
  {
   "cell_type": "code",
   "execution_count": 10,
   "metadata": {},
   "outputs": [
    {
     "name": "stderr",
     "output_type": "stream",
     "text": [
      "[nltk_data] Downloading package wordnet to /Users/kimjin-\n",
      "[nltk_data]     seong/nltk_data...\n",
      "[nltk_data]   Package wordnet is already up-to-date!\n",
      "[nltk_data] Downloading package stopwords to /Users/kimjin-\n",
      "[nltk_data]     seong/nltk_data...\n",
      "[nltk_data]   Package stopwords is already up-to-date!\n"
     ]
    }
   ],
   "source": [
    "import torch\n",
    "\n",
    "import nltk\n",
    "from nltk.tokenize import TreebankWordTokenizer, RegexpTokenizer\n",
    "from nltk.corpus import stopwords\n",
    "from nltk.stem import WordNetLemmatizer\n",
    "from nltk.stem import PorterStemmer\n",
    "\n",
    "from sklearn.feature_extraction.text import TfidfVectorizer\n",
    "\n",
    "import numpy as np\n",
    "import pickle\n",
    "import os, re, json\n",
    "from collections import defaultdict\n",
    "\n",
    "# download nltk resources\n",
    "nltk.download('wordnet')\n",
    "nltk.download('stopwords')\n",
    "\n",
    "# set device (MAC)\n",
    "device = torch.device(\"mps\") if torch.backends.mps.is_available() else torch.device('cpu')"
   ]
  },
  {
   "cell_type": "markdown",
   "metadata": {},
   "source": [
    "### Load Dataset"
   ]
  },
  {
   "cell_type": "code",
   "execution_count": 11,
   "metadata": {},
   "outputs": [],
   "source": [
    "# read file list\n",
    "train_dataset_path = './dataset/AP_corpus_one_line_per_sentence'\n",
    "tarin_dataset_list = os.listdir(train_dataset_path)\n",
    "\n",
    "# init\n",
    "text = []\n",
    "\n",
    "# read files\n",
    "for file in tarin_dataset_list:\n",
    "    file_path = f'{train_dataset_path}/{file}'\n",
    "    with open(file_path, 'r') as f:\n",
    "        text.append(f.read())"
   ]
  },
  {
   "cell_type": "markdown",
   "metadata": {},
   "source": [
    "### Text Cleaning"
   ]
  },
  {
   "cell_type": "code",
   "execution_count": 12,
   "metadata": {},
   "outputs": [],
   "source": [
    "def textCleaning(sentence, is_stem=False):\n",
    "    # get lowercase\n",
    "    sentence = sentence.lower()\n",
    "\n",
    "    # tokenization\n",
    "    #tokenizer = TreebankWordTokenizer()\n",
    "    tokenizer = RegexpTokenizer(r'\\w+')\n",
    "    sentence = tokenizer.tokenize(sentence)\n",
    "\n",
    "    # lemmatization\n",
    "    lemmatizer = WordNetLemmatizer()\n",
    "    sentence = [lemmatizer.lemmatize(token) for token in sentence]\n",
    "\n",
    "    # stemming\n",
    "    if is_stem:\n",
    "        stemmer = PorterStemmer()\n",
    "        sentence = [stemmer.stem(token) for token in sentence]\n",
    "\n",
    "    patterns = r\"(@\\[A-Za-z0-9]+)|([^0-9A-Za-z \\t])|(\\w+:\\/\\/\\S+)|^rt|http.+?\"\n",
    "    stop_words = set(stopwords.words('english'))\n",
    "\n",
    "    # removing unicode characters(punctuations)\n",
    "    sentence = [re.sub(patterns, '', token) for token in sentence if re.sub(patterns, '', token)]\n",
    "\n",
    "    # removing numbers\n",
    "    sentence = [re.sub(r'\\d+', '', token) for token in sentence if re.sub(r'\\d+', '', token)]\n",
    "\n",
    "    # removing stopwords\n",
    "    stop_words = set(stopwords.words('english'))\n",
    "    sentence = [token for token in sentence if token not in stop_words]\n",
    "\n",
    "    # removing words less than minimum word length\n",
    "    processed_sentence = [token for token in sentence if len(token)>2]\n",
    "\n",
    "    # processed_tokens = [token for token in sentence if re.sub(patterns, '', token) and not re.sub(r'\\d+', '', token) and token not in stop_words and len(token) > 2]    \n",
    "\n",
    "    return processed_sentence\n",
    "\n",
    "def getPadded(tokens, max_len):\n",
    "    seq_len = len(tokens)\n",
    "    if seq_len < max_len:\n",
    "        tokens = tokens + ['[PAD]']*(max_len-seq_len)\n",
    "    return tokens\n",
    "\n",
    "def preprocessing(text, save_root=None, is_save=False):\n",
    "    text_clean = []\n",
    "    dataset_len = len(text)\n",
    "\n",
    "    for idx, sentence in enumerate(text):\n",
    "        text_clean.append(textCleaning(sentence, is_stem=True))\n",
    "\n",
    "        if idx%100==0:\n",
    "            print(f'{idx+1:5d}/{dataset_len:5d} complete')\n",
    "\n",
    "    # get max length\n",
    "    max_len = 0\n",
    "    for tokens in text_clean:\n",
    "        token_length = len(tokens)\n",
    "\n",
    "        if token_length > max_len:\n",
    "            max_len = token_length\n",
    "\n",
    "    # padding\n",
    "    # padded_tokens = []\n",
    "\n",
    "    # for idx, tokens in enumerate(text_clean):\n",
    "    #     padded_tokens.append(getPadded(tokens, max_len))\n",
    "\n",
    "    #     if idx%100==0:\n",
    "    #         print(f'{idx+1:5d}/{dataset_len:5d} complete')\n",
    "\n",
    "\n",
    "    # save files\n",
    "    if is_save:\n",
    "        with open(f'{save_root}/text_list_cleaning.pkl', 'wb') as file:\n",
    "            pickle.dump(text_clean, file)\n",
    "\n",
    "        # with open(f'{save_root}/text_list_cleaning_padded.pkl', 'wb') as file:\n",
    "        #     pickle.dump(padded_tokens, file)\n",
    "\n",
    "    return text_clean\n",
    "\n",
    "def loadData(save_root):\n",
    "    with open(f'{save_root}/text_list_cleaning.pkl', 'rb') as file:\n",
    "        text_clean = pickle.load(file)\n",
    "\n",
    "    # with open(f'{save_root}/text_list_cleaning_padded.pkl', 'rb') as file:\n",
    "    #     padded_tokens = pickle.load(file)\n",
    "\n",
    "    return text_clean"
   ]
  },
  {
   "cell_type": "code",
   "execution_count": 13,
   "metadata": {},
   "outputs": [],
   "source": [
    "save_root = './dataset'\n",
    "\n",
    "#text_clean = preprocessing(text, save_root, True)\n",
    "text_clean = loadData(save_root)"
   ]
  },
  {
   "cell_type": "markdown",
   "metadata": {},
   "source": [
    "### Create Vocab"
   ]
  },
  {
   "cell_type": "code",
   "execution_count": 14,
   "metadata": {},
   "outputs": [],
   "source": [
    "def createVocab(word_tokens, save_root=None, is_save=False):\n",
    "    # 빈도 계산을 위한 딕셔너리 초기화\n",
    "    word_freq = defaultdict(int)\n",
    "\n",
    "    # 문장을 문자열로 변환 (TfidfVectorizer는 문자열 입력을 받음)\n",
    "    text_clean_str = [' '.join(sequence) for sequence in word_tokens]\n",
    "\n",
    "    # TF-IDF Vectorizer 초기화\n",
    "    vectorizer = TfidfVectorizer()\n",
    "\n",
    "    # TF-IDF 값 계산\n",
    "    tfidf_matrix = vectorizer.fit_transform(text_clean_str)\n",
    "\n",
    "    # 각 단어의 TF-IDF 평균값 계산\n",
    "    tfidf_scores = np.mean(tfidf_matrix.toarray(), axis=0)\n",
    "\n",
    "    # 단어와 그에 해당하는 TF-IDF 점수 매핑\n",
    "    vocab_tfidf = {word: score for word, score in zip(vectorizer.get_feature_names_out(), tfidf_scores)}\n",
    "\n",
    "    # TF-IDF 기준 설정\n",
    "    min_tfidf = np.float64(0.00005)\n",
    "    filtered_vocab = [word for word, score in vocab_tfidf.items() if score >= min_tfidf]\n",
    "\n",
    "    # 'PAD'와 'UNK'를 0번과 1번 인덱스에 추가\n",
    "    final_vocab_list = ['[PAD]', '[UNK]'] + sorted(filtered_vocab)\n",
    "    final_vocab_dict = {word: idx for idx, word in enumerate(final_vocab_list)}\n",
    "\n",
    "    if is_save:\n",
    "        with open(f'{save_root}/vocab.json', 'w') as json_file:\n",
    "            json.dump(final_vocab_dict, json_file)\n",
    "\n",
    "    return final_vocab_dict\n",
    "\n",
    "def loadVocab(save_root):\n",
    "    with open(f'{save_root}/vocab.json', 'r') as json_file:\n",
    "        vocab = json.load(json_file)\n",
    "\n",
    "    return vocab"
   ]
  },
  {
   "cell_type": "code",
   "execution_count": 15,
   "metadata": {},
   "outputs": [
    {
     "name": "stdout",
     "output_type": "stream",
     "text": [
      "Vocab Length: 37690\n"
     ]
    }
   ],
   "source": [
    "#vocab = createVocab(text_clean, './dataset', True)\n",
    "vocab = loadVocab('./dataset')\n",
    "print(f'Vocab Length: {len(vocab)}')"
   ]
  },
  {
   "cell_type": "markdown",
   "metadata": {},
   "source": [
    "### Integer Encoding"
   ]
  },
  {
   "cell_type": "code",
   "execution_count": 16,
   "metadata": {},
   "outputs": [],
   "source": [
    "def encodeTokens(corpus_tokens, word_to_index, save_root=None, is_save=False):\n",
    "    final_corpus = []\n",
    "    nb_data = len(corpus_tokens)\n",
    "\n",
    "    for idx, tokens in enumerate(corpus_tokens):\n",
    "        final_corpus.append([word_to_index.get(token, word_to_index['[UNK]']) for token in tokens])\n",
    "        print(f'[{idx+1:3d} / {nb_data:3d}] complete', end='\\r')\n",
    "\n",
    "    if is_save:\n",
    "        with open(f'{save_root}/text_list_cleaning_encoded.pkl', 'wb') as file:\n",
    "            pickle.dump(final_corpus, file)\n",
    "\n",
    "    return final_corpus\n",
    "\n",
    "def loadEncodedTokens(save_root):\n",
    "    with open(f'{save_root}/text_list_cleaning_encoded.pkl', 'rb') as file:\n",
    "        tokens = pickle.load(file)\n",
    "\n",
    "    return tokens\n",
    "\n",
    "#encoded_tokens = encodeTokens(text_clean, vocab, './dataset', True)\n",
    "encoded_tokens = loadEncodedTokens('./dataset')"
   ]
  },
  {
   "cell_type": "code",
   "execution_count": null,
   "metadata": {},
   "outputs": [],
   "source": []
  }
 ],
 "metadata": {
  "kernelspec": {
   "display_name": "nlp_lec",
   "language": "python",
   "name": "python3"
  },
  "language_info": {
   "codemirror_mode": {
    "name": "ipython",
    "version": 3
   },
   "file_extension": ".py",
   "mimetype": "text/x-python",
   "name": "python",
   "nbconvert_exporter": "python",
   "pygments_lexer": "ipython3",
   "version": "3.9.19"
  }
 },
 "nbformat": 4,
 "nbformat_minor": 2
}
