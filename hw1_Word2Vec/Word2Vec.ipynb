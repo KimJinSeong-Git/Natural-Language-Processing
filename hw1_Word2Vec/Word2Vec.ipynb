{
 "cells": [
  {
   "cell_type": "markdown",
   "metadata": {},
   "source": [
    "### Import Modules"
   ]
  },
  {
   "cell_type": "code",
   "execution_count": 1,
   "metadata": {},
   "outputs": [
    {
     "name": "stderr",
     "output_type": "stream",
     "text": [
      "[nltk_data] Downloading package wordnet to /Users/kimjin-\n",
      "[nltk_data]     seong/nltk_data...\n",
      "[nltk_data]   Package wordnet is already up-to-date!\n",
      "[nltk_data] Downloading package stopwords to /Users/kimjin-\n",
      "[nltk_data]     seong/nltk_data...\n",
      "[nltk_data]   Package stopwords is already up-to-date!\n"
     ]
    }
   ],
   "source": [
    "import torch\n",
    "\n",
    "import nltk\n",
    "from nltk.tokenize import TreebankWordTokenizer\n",
    "from nltk.corpus import stopwords\n",
    "from nltk.stem import WordNetLemmatizer\n",
    "from nltk.stem import PorterStemmer\n",
    "\n",
    "from sklearn.feature_extraction.text import TfidfVectorizer\n",
    "\n",
    "import numpy as np\n",
    "import os, re\n",
    "\n",
    "# download nltk resources\n",
    "nltk.download('wordnet')\n",
    "nltk.download('stopwords')\n",
    "\n",
    "# set device (MAC)\n",
    "device = torch.device(\"mps\") if torch.backends.mps.is_available() else torch.device('cpu')"
   ]
  },
  {
   "cell_type": "markdown",
   "metadata": {},
   "source": [
    "### Load Dataset"
   ]
  },
  {
   "cell_type": "code",
   "execution_count": 2,
   "metadata": {},
   "outputs": [],
   "source": [
    "# read file list\n",
    "train_dataset_path = './dataset/AP_corpus_one_line_per_sentence'\n",
    "tarin_dataset_list = os.listdir(train_dataset_path)\n",
    "\n",
    "# init\n",
    "text = []\n",
    "\n",
    "# read files\n",
    "for file in tarin_dataset_list:\n",
    "    file_path = f'{train_dataset_path}/{file}'\n",
    "    with open(file_path, 'r') as f:\n",
    "        text.append(f.read())"
   ]
  },
  {
   "cell_type": "markdown",
   "metadata": {},
   "source": [
    "### Text Cleaning"
   ]
  },
  {
   "cell_type": "code",
   "execution_count": 3,
   "metadata": {},
   "outputs": [],
   "source": [
    "def textCleaning(sentence, is_stem=False):\n",
    "    # get lowercase\n",
    "    sentence = sentence.lower()\n",
    "\n",
    "    # tokenization\n",
    "    tokenizer = TreebankWordTokenizer()\n",
    "    sentence = tokenizer.tokenize(sentence)\n",
    "\n",
    "    # lemmatization\n",
    "    lemmatizer = WordNetLemmatizer()\n",
    "    sentence = [lemmatizer.lemmatize(token) for token in sentence]\n",
    "\n",
    "    # stemming\n",
    "    if is_stem:\n",
    "        stemmer = PorterStemmer()\n",
    "        sentence = [stemmer.stem(token) for token in sentence]\n",
    "\n",
    "    patterns = r\"(@\\[A-Za-z0-9]+)|([^0-9A-Za-z \\t])|(\\w+:\\/\\/\\S+)|^rt|http.+?\"\n",
    "    stop_words = set(stopwords.words('english'))\n",
    "\n",
    "\n",
    "    # removing unicode characters(punctuations)\n",
    "    patterns = r\"(@\\[A-Za-z0-9]+)|([^0-9A-Za-z \\t])|(\\w+:\\/\\/\\S+)|^rt|http.+?\"\n",
    "    sentence = [re.sub(patterns, '', token) for token in sentence if re.sub(patterns, '', token)]\n",
    "\n",
    "    # removing numbers\n",
    "    sentence = [re.sub(r'\\d+', '', token) for token in sentence if re.sub(r'\\d+', '', token)]\n",
    "\n",
    "    # removing stopwords\n",
    "    stop_words = set(stopwords.words('english'))\n",
    "    sentence = [token for token in sentence if token not in stop_words]\n",
    "\n",
    "    # removing words less than minimum word length\n",
    "    processed_sentence = [token for token in sentence if len(token)>2]\n",
    "\n",
    "    # processed_tokens = [token for token in sentence if re.sub(patterns, '', token) and not re.sub(r'\\d+', '', token) and token not in stop_words and len(token) > 2]    \n",
    "\n",
    "    return processed_sentence\n",
    "\n",
    "def getPadded(tokens, max_len):\n",
    "    seq_len = len(tokens)\n",
    "    if seq_len < max_len:\n",
    "        tokens = tokens + ['[PAD]']*(max_len-seq_len)\n",
    "    return tokens"
   ]
  },
  {
   "cell_type": "code",
   "execution_count": 4,
   "metadata": {},
   "outputs": [],
   "source": [
    "text_clean = []\n",
    "dataset_len = len(text)\n",
    "\n",
    "for idx, sentence in enumerate(text):\n",
    "    text_clean.append(textCleaning(sentence))\n",
    "\n",
    "    if idx+1%50 == 0:\n",
    "        print(f'{idx+1:5d}/{dataset_len:5d} complete')"
   ]
  },
  {
   "cell_type": "code",
   "execution_count": null,
   "metadata": {},
   "outputs": [],
   "source": [
    "# get max length\n",
    "max_len = 0\n",
    "for tokens in text_clean:\n",
    "    token_length = len(tokens)\n",
    "\n",
    "    if token_length > max_len:\n",
    "        max_len = token_length\n",
    "\n",
    "# padding\n",
    "padded_tokens = []\n",
    "\n",
    "for idx, tokens in enumerate(text_clean):\n",
    "    padded_tokens.append(getPadded(tokens, max_len))\n",
    "\n",
    "    if idx+1%50 == 0:\n",
    "        print(f'{idx+1:5d}/{dataset_len:5d} complete')"
   ]
  },
  {
   "cell_type": "markdown",
   "metadata": {},
   "source": [
    "### Create Vocab"
   ]
  },
  {
   "cell_type": "code",
   "execution_count": null,
   "metadata": {},
   "outputs": [],
   "source": [
    "def getVocab(docs):\n",
    "    # create vocab using TF-IDF\n",
    "    tfidfv = TfidfVectorizer().fit(docs)\n",
    "    vocab = tfidfv.vocabulary_\n",
    "\n",
    "    # delete a key with a value of 0\n",
    "    zero_key = [key for key, value in vocab.items() if value == 0 or value == 1]\n",
    "    for key in zero_key:\n",
    "        del vocab[key]\n",
    "\n",
    "    # add [pad] key to vocab\n",
    "    vocab['[pad]'] = 0\n",
    "\n",
    "    # add [unk] key to vocab\n",
    "    vocab['[unk]'] = 1\n",
    "\n",
    "    return vocab"
   ]
  }
 ],
 "metadata": {
  "kernelspec": {
   "display_name": "nlp_lec",
   "language": "python",
   "name": "python3"
  },
  "language_info": {
   "codemirror_mode": {
    "name": "ipython",
    "version": 3
   },
   "file_extension": ".py",
   "mimetype": "text/x-python",
   "name": "python",
   "nbconvert_exporter": "python",
   "pygments_lexer": "ipython3",
   "version": "3.9.19"
  }
 },
 "nbformat": 4,
 "nbformat_minor": 2
}
